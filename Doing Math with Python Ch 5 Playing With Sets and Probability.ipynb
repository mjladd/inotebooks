{
 "cells": [
  {
   "cell_type": "markdown",
   "metadata": {},
   "source": [
    "### What is a Set?\n",
    "A set is a collection of distinct objects (elements or members). A set is \"well-defined\" (easy to determine if an element is in a set) and each element is unique.\n"
   ]
  },
  {
   "cell_type": "code",
   "execution_count": 1,
   "metadata": {
    "collapsed": false
   },
   "outputs": [
    {
     "data": {
      "text/plain": [
       "{2, 4, 6}"
      ]
     },
     "execution_count": 1,
     "metadata": {},
     "output_type": "execute_result"
    }
   ],
   "source": [
    "from sympy import FiniteSet\n",
    "s = FiniteSet(2, 4, 6)\n",
    "s"
   ]
  },
  {
   "cell_type": "code",
   "execution_count": 2,
   "metadata": {
    "collapsed": false
   },
   "outputs": [
    {
     "data": {
      "text/plain": [
       "{1/5, 1, 1.5}"
      ]
     },
     "execution_count": 2,
     "metadata": {},
     "output_type": "execute_result"
    }
   ],
   "source": [
    "from sympy import FiniteSet\n",
    "from fractions import Fraction\n",
    "s = FiniteSet(1, 1.5, Fraction(1, 5))\n",
    "s"
   ]
  },
  {
   "cell_type": "markdown",
   "metadata": {},
   "source": [
    "#### Set Construction"
   ]
  },
  {
   "cell_type": "markdown",
   "metadata": {},
   "source": [
    "The cardinality of a set, is the number of members of a set. "
   ]
  },
  {
   "cell_type": "code",
   "execution_count": 3,
   "metadata": {
    "collapsed": false
   },
   "outputs": [
    {
     "data": {
      "text/plain": [
       "3"
      ]
     },
     "execution_count": 3,
     "metadata": {},
     "output_type": "execute_result"
    }
   ],
   "source": [
    "s = FiniteSet(1,1.5, 3)\n",
    "len(s)"
   ]
  },
  {
   "cell_type": "markdown",
   "metadata": {},
   "source": [
    "##### The 'in' operator is used to check if a number is a member of an existing set. "
   ]
  },
  {
   "cell_type": "code",
   "execution_count": 5,
   "metadata": {
    "collapsed": false
   },
   "outputs": [
    {
     "data": {
      "text/plain": [
       "True"
      ]
     },
     "execution_count": 5,
     "metadata": {},
     "output_type": "execute_result"
    }
   ],
   "source": [
    "s = FiniteSet(2,3.5, 4)\n",
    "4 in s"
   ]
  },
  {
   "cell_type": "markdown",
   "metadata": {},
   "source": [
    "##### Set Repetition and Order"
   ]
  },
  {
   "cell_type": "code",
   "execution_count": 11,
   "metadata": {
    "collapsed": false
   },
   "outputs": [
    {
     "name": "stdout",
     "output_type": "stream",
     "text": [
      "[1, 2, 3, 2]\n",
      "{1, 2, 3}\n",
      "Members = 3, since repetition in a set is ignored\n"
     ]
    }
   ],
   "source": [
    "# sets ignore repeats of a member\n",
    "from sympy import FiniteSet\n",
    "members = [1, 2, 3, 2]\n",
    "print (members)\n",
    "print (FiniteSet(*members))\n",
    "print ('Members = 3, since repetition in a set is ignored')"
   ]
  },
  {
   "cell_type": "code",
   "execution_count": 15,
   "metadata": {
    "collapsed": false
   },
   "outputs": [
    {
     "name": "stdout",
     "output_type": "stream",
     "text": [
      "1\n",
      "2\n",
      "3\n"
     ]
    }
   ],
   "source": [
    "# set members can be printed out, via iteration\n",
    "from sympy import FiniteSet\n",
    "s = FiniteSet(1, 2, 3)\n",
    "for member in s:\n",
    "    print(member)"
   ]
  },
  {
   "cell_type": "code",
   "execution_count": 16,
   "metadata": {
    "collapsed": false
   },
   "outputs": [
    {
     "data": {
      "text/plain": [
       "True"
      ]
     },
     "execution_count": 16,
     "metadata": {},
     "output_type": "execute_result"
    }
   ],
   "source": [
    "# sets are equal when the contain the same members,\n",
    "# but the members can be in any order. \n",
    "from sympy import FiniteSet\n",
    "s = FiniteSet(3, 4, 5)\n",
    "t = FiniteSet(5, 3, 4)\n",
    "s == t"
   ]
  },
  {
   "cell_type": "markdown",
   "metadata": {},
   "source": [
    "#### Subsets, Supersets, and Power Sets\n",
    "The set 's', is a subset of another set 't' if all the members of 's' are also members of 't'."
   ]
  },
  {
   "cell_type": "code",
   "execution_count": 17,
   "metadata": {
    "collapsed": false
   },
   "outputs": [
    {
     "data": {
      "text/plain": [
       "True"
      ]
     },
     "execution_count": 17,
     "metadata": {},
     "output_type": "execute_result"
    }
   ],
   "source": [
    "# The set 's', is a subset of another \n",
    "# set 't' if all the members of 's' are also members of 't'.\n",
    "from sympy import FiniteSet\n",
    "s = FiniteSet(3, 4, 5)\n",
    "t = FiniteSet(5, 3, 4, 2)\n",
    "s.is_subset(t)\n"
   ]
  },
  {
   "cell_type": "code",
   "execution_count": 18,
   "metadata": {
    "collapsed": false
   },
   "outputs": [
    {
     "data": {
      "text/plain": [
       "True"
      ]
     },
     "execution_count": 18,
     "metadata": {},
     "output_type": "execute_result"
    }
   ],
   "source": [
    "# The set 't' is a superset of 's' if 't' contains all \n",
    "# members of 's'.\n",
    "from sympy import FiniteSet\n",
    "s = FiniteSet(3, 4, 5)\n",
    "t = FiniteSet(5, 3, 4, 2)\n",
    "t.is_superset(s)\n"
   ]
  },
  {
   "cell_type": "code",
   "execution_count": 19,
   "metadata": {
    "collapsed": false
   },
   "outputs": [
    {
     "data": {
      "text/plain": [
       "{EmptySet(), {1}, {2}, {3}, {1, 2}, {1, 3}, {2, 3}, {1, 2, 3}}"
      ]
     },
     "execution_count": 19,
     "metadata": {},
     "output_type": "execute_result"
    }
   ],
   "source": [
    "# The power set is the set of all possible subnets of s. \n",
    "# The cardinality of of the power set is 2^|s|\n",
    "from sympy import FiniteSet\n",
    "s = FiniteSet(1, 2, 3)\n",
    "ps = s.powerset()\n",
    "ps"
   ]
  },
  {
   "cell_type": "code",
   "execution_count": 22,
   "metadata": {
    "collapsed": false
   },
   "outputs": [
    {
     "data": {
      "text/plain": [
       "True"
      ]
     },
     "execution_count": 22,
     "metadata": {},
     "output_type": "execute_result"
    }
   ],
   "source": [
    "# A 'proper subset' requires than the superset has at least\n",
    "# one additional value than the subset. \n",
    "from sympy import FiniteSet\n",
    "s = FiniteSet(1, 2, 3)\n",
    "t = FiniteSet(1, 2, 3, 4)\n",
    "s.is_proper_subset(t)"
   ]
  },
  {
   "cell_type": "markdown",
   "metadata": {},
   "source": [
    "#### Set Operations"
   ]
  },
  {
   "cell_type": "markdown",
   "metadata": {},
   "source": [
    "##### Union and Intersection\n",
    " "
   ]
  },
  {
   "cell_type": "code",
   "execution_count": 26,
   "metadata": {
    "collapsed": false
   },
   "outputs": [
    {
     "data": {
      "text/plain": [
       "{1, 2, 3, 4, 6}"
      ]
     },
     "execution_count": 26,
     "metadata": {},
     "output_type": "execute_result"
    }
   ],
   "source": [
    "# The Union of two sets is a set that contains all of \n",
    "# this distinct members of each set. \n",
    "from sympy import FiniteSet\n",
    "s = FiniteSet(1, 2, 3)\n",
    "t = FiniteSet(2, 4, 6)\n",
    "s.union(t)"
   ]
  },
  {
   "cell_type": "code",
   "execution_count": 27,
   "metadata": {
    "collapsed": false
   },
   "outputs": [
    {
     "data": {
      "text/plain": [
       "{2}"
      ]
     },
     "execution_count": 27,
     "metadata": {},
     "output_type": "execute_result"
    }
   ],
   "source": [
    "# The Intersection of two sets is a set that contains all of \n",
    "# this common members of each set. \n",
    "from sympy import FiniteSet\n",
    "s = FiniteSet(1, 2, 3)\n",
    "t = FiniteSet(2, 4, 6)\n",
    "s.intersect(t)"
   ]
  },
  {
   "cell_type": "code",
   "execution_count": 28,
   "metadata": {
    "collapsed": false
   },
   "outputs": [
    {
     "data": {
      "text/plain": [
       "{1, 2, 3, 4, 5, 6, 7}"
      ]
     },
     "execution_count": 28,
     "metadata": {},
     "output_type": "execute_result"
    }
   ],
   "source": [
    "# The union of three sets\n",
    "from sympy import FiniteSet\n",
    "s = FiniteSet(1, 2, 3)\n",
    "t = FiniteSet(2, 4, 6)\n",
    "u = FiniteSet (3, 5, 7)\n",
    "s.union(t).union(u)"
   ]
  },
  {
   "cell_type": "code",
   "execution_count": 29,
   "metadata": {
    "collapsed": false
   },
   "outputs": [
    {
     "data": {
      "text/plain": [
       "EmptySet()"
      ]
     },
     "execution_count": 29,
     "metadata": {},
     "output_type": "execute_result"
    }
   ],
   "source": [
    "# The intersecion of three sets\n",
    "from sympy import FiniteSet\n",
    "s = FiniteSet(1, 2, 3)\n",
    "t = FiniteSet(2, 4, 6)\n",
    "u = FiniteSet (3, 5, 7)\n",
    "s.intersect(t).intersect(u)"
   ]
  },
  {
   "cell_type": "markdown",
   "metadata": {},
   "source": [
    "##### Cartesian Product"
   ]
  },
  {
   "cell_type": "code",
   "execution_count": 30,
   "metadata": {
    "collapsed": false
   },
   "outputs": [
    {
     "data": {
      "text/plain": [
       "{1, 2} x {3, 4}"
      ]
     },
     "execution_count": 30,
     "metadata": {},
     "output_type": "execute_result"
    }
   ],
   "source": [
    "# The Cartesian Product of two sets creates a set that consists\n",
    "# of all possible pairs by taking an element from each set. \n",
    "from sympy import FiniteSet\n",
    "s = FiniteSet(1, 2)\n",
    "t = FiniteSet(3, 4)\n",
    "p = s*t\n",
    "p"
   ]
  },
  {
   "cell_type": "code",
   "execution_count": 31,
   "metadata": {
    "collapsed": false
   },
   "outputs": [
    {
     "name": "stdout",
     "output_type": "stream",
     "text": [
      "(1, 3)\n",
      "(1, 4)\n",
      "(2, 3)\n",
      "(2, 4)\n"
     ]
    }
   ],
   "source": [
    "# To view each pair of a Cartesian Product\n",
    "from sympy import FiniteSet\n",
    "s = FiniteSet(1, 2)\n",
    "t = FiniteSet(3, 4)\n",
    "p = s*t\n",
    "for elem in p:\n",
    "    print(elem)"
   ]
  },
  {
   "cell_type": "code",
   "execution_count": 32,
   "metadata": {
    "collapsed": false
   },
   "outputs": [
    {
     "data": {
      "text/plain": [
       "True"
      ]
     },
     "execution_count": 32,
     "metadata": {},
     "output_type": "execute_result"
    }
   ],
   "source": [
    "# The cardinality of the Cartesian Product is a tuple consisting\n",
    "# of a member from the first set and a member from the second set. \n",
    "from sympy import FiniteSet\n",
    "s = FiniteSet(1, 2)\n",
    "t = FiniteSet(3, 4)\n",
    "p = s*t\n",
    "len(p) == len(s)*len(t)"
   ]
  },
  {
   "cell_type": "code",
   "execution_count": 33,
   "metadata": {
    "collapsed": false
   },
   "outputs": [
    {
     "data": {
      "text/plain": [
       "{1, 2} x {1, 2} x {1, 2}"
      ]
     },
     "execution_count": 33,
     "metadata": {},
     "output_type": "execute_result"
    }
   ],
   "source": [
    "# Applying the exponential operator (**) to a set will give the\n",
    "# Cartesian Product of the set times itself. \n",
    "from sympy import FiniteSet\n",
    "s = FiniteSet(1, 2)\n",
    "p = s**3\n",
    "p\n"
   ]
  },
  {
   "cell_type": "markdown",
   "metadata": {},
   "source": [
    "### Probability\n",
    "* experiment: the test to be performed, a single run of an experiment is called a trial\n",
    "* sample space: all possible outcomes (S) of an experiment\n",
    "* event: a set of outcomes that form a subset of the sample space. "
   ]
  },
  {
   "cell_type": "code",
   "execution_count": 39,
   "metadata": {
    "collapsed": false
   },
   "outputs": [
    {
     "name": "stdout",
     "output_type": "stream",
     "text": [
      "Sample space: {1, 2, 3, ..., 18, 19, 20}\n",
      "Event: {2}\n",
      "Probability of rolling a prime: 0.05000\n"
     ]
    }
   ],
   "source": [
    "# Find the probability of a prime number appearing with a 20-side dice roll\n",
    "from sympy import FiniteSet\n",
    "\n",
    "def probability(space, event):\n",
    "    return len(event)/len(space)\n",
    "\n",
    "def check_prime_number(number):\n",
    "    if number != 1:\n",
    "        for factor in range(2, number):\n",
    "            if number % factor == 0:\n",
    "                return False\n",
    "    else:\n",
    "        return False\n",
    "    return True\n",
    "\n",
    "if __name__==\"__main__\":\n",
    "    space = FiniteSet(*range(1, 21))\n",
    "    primes = []\n",
    "    for num in s:\n",
    "        if check_prime_number(num):\n",
    "            primes.append(num)\n",
    "    event = FiniteSet(*primes)\n",
    "    p = probability(space,event)\n",
    "    \n",
    "    print('Sample space: {0}'.format(space))\n",
    "    print('Event: {0}'.format(event))\n",
    "    print('Probability of rolling a prime: {0:.5f}'.format(p))"
   ]
  },
  {
   "cell_type": "markdown",
   "metadata": {},
   "source": [
    "#### Probability of Event A or Event B"
   ]
  },
  {
   "cell_type": "code",
   "execution_count": 40,
   "metadata": {
    "collapsed": false
   },
   "outputs": [
    {
     "data": {
      "text/plain": [
       "0.6666666666666666"
      ]
     },
     "execution_count": 40,
     "metadata": {},
     "output_type": "execute_result"
    }
   ],
   "source": [
    "from sympy import FiniteSet\n",
    "s = FiniteSet(1, 2, 3, 4, 5, 6)\n",
    "a = FiniteSet(2, 3, 5)\n",
    "b = FiniteSet(1, 3, 5)\n",
    "e = a.union(b)\n",
    "len(e)/len(s)"
   ]
  },
  {
   "cell_type": "markdown",
   "metadata": {},
   "source": [
    "#### Probability of Event A and Event B"
   ]
  },
  {
   "cell_type": "code",
   "execution_count": 41,
   "metadata": {
    "collapsed": false
   },
   "outputs": [
    {
     "data": {
      "text/plain": [
       "0.3333333333333333"
      ]
     },
     "execution_count": 41,
     "metadata": {},
     "output_type": "execute_result"
    }
   ],
   "source": [
    "from sympy import FiniteSet\n",
    "s = FiniteSet(1, 2, 3, 4, 5, 6)\n",
    "a = FiniteSet(2, 3, 5)\n",
    "b = FiniteSet(1, 3, 5)\n",
    "e = a.intersect(b)\n",
    "len(e)/len(s)"
   ]
  },
  {
   "cell_type": "markdown",
   "metadata": {},
   "source": [
    "#### Generating Random Numbers"
   ]
  },
  {
   "cell_type": "code",
   "execution_count": 43,
   "metadata": {
    "collapsed": false
   },
   "outputs": [
    {
     "data": {
      "text/plain": [
       "1"
      ]
     },
     "execution_count": 43,
     "metadata": {},
     "output_type": "execute_result"
    }
   ],
   "source": [
    "import random\n",
    "random.randint(1, 6)"
   ]
  },
  {
   "cell_type": "code",
   "execution_count": 44,
   "metadata": {
    "collapsed": false
   },
   "outputs": [
    {
     "name": "stdout",
     "output_type": "stream",
     "text": [
      "Using matplotlib backend: MacOSX\n",
      "Rolled: 2\n",
      "Rolled: 3\n",
      "Rolled: 6\n",
      "Rolled: 2\n",
      "Rolled: 4\n",
      "Rolled: 2\n",
      "Rolled: 1\n",
      "Score of 20 reached in 7 rolls\n"
     ]
    }
   ],
   "source": [
    "# Roll until the total score is 20\n",
    "%matplotlib\n",
    "import matplotlib.pyplot as plt\n",
    "import random\n",
    "\n",
    "target_score = 20\n",
    "\n",
    "def roll():\n",
    "    return random.randint(1, 6)\n",
    "\n",
    "if __name__==\"__main__\":\n",
    "    score = 0\n",
    "    num_rolls = 0\n",
    "    while score < target_score:\n",
    "        die_roll = roll()\n",
    "        num_rolls += 1\n",
    "        print('Rolled: {0}'.format(die_roll))\n",
    "        score += die_roll\n",
    "    \n",
    "    print('Score of {0} reached in {1} rolls'.format(score, num_rolls))\n",
    "    p = find_prob(target_score, max_)"
   ]
  },
  {
   "cell_type": "markdown",
   "metadata": {},
   "source": [
    "#### Nonuniform Random Numbers"
   ]
  },
  {
   "cell_type": "code",
   "execution_count": 46,
   "metadata": {
    "collapsed": false
   },
   "outputs": [],
   "source": [
    "import random\n",
    "\n",
    "def get_index(probability):\n",
    "    c_probability = 0\n",
    "    sum_probability = []\n",
    "    for p in probability:\n",
    "        c_probability += p\n",
    "        sum_probability.append(c_probability)\n",
    "        \n",
    "    r = random.random()\n",
    "    for index, sp in enumerate(sum_probability):\n",
    "        if r <= sp:\n",
    "            return index\n",
    "    return len(probability) -1\n",
    "\n",
    "def dispense():\n",
    "    \n",
    "    dollar_bills = [5, 10, 20, 50]\n",
    "    probability = [1/6, 1/6, 1/3, 2/3]\n",
    "    bill_index = get_index(probabiity)\n",
    "    return dollar_bills[bill_index]"
   ]
  },
  {
   "cell_type": "code",
   "execution_count": null,
   "metadata": {
    "collapsed": true
   },
   "outputs": [],
   "source": []
  }
 ],
 "metadata": {
  "kernelspec": {
   "display_name": "Python 3",
   "language": "python",
   "name": "python3"
  },
  "language_info": {
   "codemirror_mode": {
    "name": "ipython",
    "version": 3
   },
   "file_extension": ".py",
   "mimetype": "text/x-python",
   "name": "python",
   "nbconvert_exporter": "python",
   "pygments_lexer": "ipython3",
   "version": "3.6.0"
  }
 },
 "nbformat": 4,
 "nbformat_minor": 0
}
