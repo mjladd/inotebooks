{
 "cells": [
  {
   "cell_type": "code",
   "execution_count": 5,
   "metadata": {},
   "outputs": [
    {
     "name": "stdout",
     "output_type": "stream",
     "text": [
      "[1 2 3 4]\n"
     ]
    },
    {
     "data": {
      "text/plain": [
       "1"
      ]
     },
     "execution_count": 5,
     "metadata": {},
     "output_type": "execute_result"
    }
   ],
   "source": [
    "# 1D Tensor / Vector\n",
    "import numpy as np\n",
    "x = np.array([1,2,3,4])\n",
    "print(x)\n",
    "x.ndim"
   ]
  },
  {
   "cell_type": "markdown",
   "metadata": {},
   "source": [
    "User characteristics can be stored in a 2D tensor (ex. mailing list)\n",
    "Ex. 10k people, with seven characteristics for each\n",
    "* First Name\n",
    "* Last Name\n",
    "* Street Address\n",
    "* City\n",
    "* State\n",
    "* Country\n",
    "* Zip"
   ]
  },
  {
   "cell_type": "code",
   "execution_count": 10,
   "metadata": {},
   "outputs": [
    {
     "data": {
      "text/plain": [
       "2"
      ]
     },
     "execution_count": 10,
     "metadata": {},
     "output_type": "execute_result"
    }
   ],
   "source": [
    "# 2D Tensor / Matrix\n",
    "import numpy as np\n",
    "x = np.array([[5,10,15,30,25,3,65], \n",
    "              [12,99,20,30,65,70,90], \n",
    "              [1,3,7,80,95,20,30]])\n",
    "x.ndim"
   ]
  },
  {
   "cell_type": "code",
   "execution_count": 19,
   "metadata": {},
   "outputs": [
    {
     "data": {
      "text/plain": [
       "3"
      ]
     },
     "execution_count": 19,
     "metadata": {},
     "output_type": "execute_result"
    }
   ],
   "source": [
    "# 3D Tensor / Cubes\n",
    "import numpy as np\n",
    "x = np.array(\n",
    "    [ [[5, 10, 15, 30, 25], [20, 30, 65, 70, 90], [7, 80, 95, 20, 30]],\n",
    "    [[3, 0, 5, 0, 45], [12, -2, 6, 7, 90], [18, -9, 95, 120, 30]],\n",
    "    [[17, 13, 25, 30, 15], [23, 36, 9, 7, 80], [1, -7, -5, 22, 3]] ]\n",
    ")\n",
    "x.ndim"
   ]
  },
  {
   "cell_type": "markdown",
   "metadata": {},
   "source": [
    "### Common Types of datasets\n",
    "* 3d = time series\n",
    "  * (time, frequency, channel) - EEG Scan\n",
    "    * multiple patients\n",
    "    * (sample_size, time, frequency, channel)\n",
    "  * stock prices\n",
    "    * (week, minutes, high_low_price\n",
    "  * tweets\n",
    "    * (num_tweets, tweet, character)\n",
    "* 4d = images\n",
    "  * (sample_size, height, width, color_depth)\n",
    "* 5d = video\n",
    "  * (sample_size, frames, width, height, color_depth)"
   ]
  },
  {
   "cell_type": "code",
   "execution_count": 1,
   "metadata": {},
   "outputs": [
    {
     "ename": "ImportError",
     "evalue": "No module named 'keras'",
     "output_type": "error",
     "traceback": [
      "\u001b[0;31m---------------------------------------------------------------------------\u001b[0m",
      "\u001b[0;31mImportError\u001b[0m                               Traceback (most recent call last)",
      "\u001b[0;32m<ipython-input-1-eb23c6bc52d4>\u001b[0m in \u001b[0;36m<module>\u001b[0;34m()\u001b[0m\n\u001b[0;32m----> 1\u001b[0;31m \u001b[0;32mfrom\u001b[0m \u001b[0mkeras\u001b[0m\u001b[0;34m.\u001b[0m\u001b[0mdatasets\u001b[0m \u001b[0;32mimport\u001b[0m \u001b[0mmnist\u001b[0m\u001b[0;34m\u001b[0m\u001b[0m\n\u001b[0m",
      "\u001b[0;31mImportError\u001b[0m: No module named 'keras'"
     ]
    }
   ],
   "source": [
    "from keras.datasets import mnist"
   ]
  },
  {
   "cell_type": "code",
   "execution_count": null,
   "metadata": {
    "collapsed": true
   },
   "outputs": [],
   "source": []
  }
 ],
 "metadata": {
  "kernelspec": {
   "display_name": "Python 3",
   "language": "python",
   "name": "python3"
  },
  "language_info": {
   "codemirror_mode": {
    "name": "ipython",
    "version": 3
   },
   "file_extension": ".py",
   "mimetype": "text/x-python",
   "name": "python",
   "nbconvert_exporter": "python",
   "pygments_lexer": "ipython3",
   "version": "3.5.2"
  }
 },
 "nbformat": 4,
 "nbformat_minor": 2
}
