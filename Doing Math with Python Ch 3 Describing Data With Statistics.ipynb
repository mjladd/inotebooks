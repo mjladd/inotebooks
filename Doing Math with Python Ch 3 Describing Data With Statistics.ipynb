{
 "cells": [
  {
   "cell_type": "markdown",
   "metadata": {},
   "source": [
    "### Finding the Mean\n",
    "The mean is a common and intuitive way to summarize a set of numbers (the average). "
   ]
  },
  {
   "cell_type": "code",
   "execution_count": 2,
   "metadata": {
    "collapsed": false
   },
   "outputs": [
    {
     "data": {
      "text/plain": [
       "6"
      ]
     },
     "execution_count": 2,
     "metadata": {},
     "output_type": "execute_result"
    }
   ],
   "source": [
    "shortlist = [1, 2, 3]\n",
    "sum(shortlist)"
   ]
  },
  {
   "cell_type": "code",
   "execution_count": 3,
   "metadata": {
    "collapsed": false
   },
   "outputs": [
    {
     "data": {
      "text/plain": [
       "3"
      ]
     },
     "execution_count": 3,
     "metadata": {},
     "output_type": "execute_result"
    }
   ],
   "source": [
    "len(shortlist)"
   ]
  },
  {
   "cell_type": "code",
   "execution_count": 4,
   "metadata": {
    "collapsed": false
   },
   "outputs": [
    {
     "name": "stdout",
     "output_type": "stream",
     "text": [
      "Mean donation over the last 12 days is 477.75\n"
     ]
    }
   ],
   "source": [
    "def calculate_mean(numbers):\n",
    "    s = sum(numbers)\n",
    "    N = len(numbers)\n",
    "    mean = s/N\n",
    "    return mean\n",
    "\n",
    "if __name__ == '__main__':\n",
    "    donations = [100, 60, 70, 900, 100, 200, 500, 500, 503, 600, 1000, 1200]\n",
    "    mean = calculate_mean(donations)\n",
    "    N = len(donations)\n",
    "    print('Mean donation over the last {0} days is {1}'.format(N, mean))\n",
    "    \n"
   ]
  },
  {
   "cell_type": "markdown",
   "metadata": {},
   "source": [
    "### Finding the Median\n",
    "The median is a middle value in a collection of numbers sorted in ascending order. If the length of the list of numbers is odd, the number in the middle of the list is the median. If the length of the list is even, the median is the mean of the two middle numbers. \n",
    "\n",
    "Ex. Given 100, 60, 70, 900, 100, 200, 500, 500, 503, 600, 1000, 1200\n",
    "The middle numbers are 500 and 500, so the mean is (500 + 500 / 2) = 500.\n"
   ]
  },
  {
   "cell_type": "code",
   "execution_count": 5,
   "metadata": {
    "collapsed": false
   },
   "outputs": [
    {
     "data": {
      "text/plain": [
       "[1, 3, 4]"
      ]
     },
     "execution_count": 5,
     "metadata": {},
     "output_type": "execute_result"
    }
   ],
   "source": [
    "samplelist = [4, 1, 3]\n",
    "samplelist.sort()\n",
    "samplelist"
   ]
  },
  {
   "cell_type": "code",
   "execution_count": 6,
   "metadata": {
    "collapsed": false
   },
   "outputs": [
    {
     "name": "stdout",
     "output_type": "stream",
     "text": [
      "Median donations over the last 12 days is 750.0\n"
     ]
    }
   ],
   "source": [
    "def calculate_median(numbers):\n",
    "    N = len(numbers)\n",
    "    numbers.sort()\n",
    "    \n",
    "    if N % 2 == 0:\n",
    "        m1 = N/2\n",
    "        m2 = (N/2) + 1\n",
    "        m1 = int(m1) - 1\n",
    "        m2 = int(m2) - 1\n",
    "        median = (numbers[m1] + numbers[m2]/2)\n",
    "    else:\n",
    "        m = (N+1)/2\n",
    "        m = int(m) - 1\n",
    "        median = numbers[m]\n",
    "        \n",
    "    return median\n",
    "\n",
    "if __name__ == '__main__':\n",
    "    donations = [100, 60, 70, 900, 100, 200, 500, 500, 503, 600, 1000, 1200]\n",
    "    median = calculate_median(donations)\n",
    "    N = len(donations)\n",
    "    print ('Median donations over the last {0} days is {1}'.format(N, median))"
   ]
  },
  {
   "cell_type": "markdown",
   "metadata": {},
   "source": [
    "### Finding the Mode and Creating a Frequency Table"
   ]
  },
  {
   "cell_type": "markdown",
   "metadata": {},
   "source": [
    "The Mode is the number that occurs most frequently in a set of numbers. "
   ]
  },
  {
   "cell_type": "markdown",
   "metadata": {},
   "source": [
    "#### Finding the Most Common Elements"
   ]
  },
  {
   "cell_type": "code",
   "execution_count": 7,
   "metadata": {
    "collapsed": false
   },
   "outputs": [
    {
     "name": "stdout",
     "output_type": "stream",
     "text": [
      "[(4, 2), (1, 1), (2, 1), (3, 1)]\n",
      "[(4, 2)]\n",
      "[(4, 2), (1, 1)]\n",
      "4\n"
     ]
    }
   ],
   "source": [
    "simplelist = [4, 2, 1, 3, 4]\n",
    "from collections import Counter\n",
    "c = Counter(simplelist)\n",
    "\n",
    "# each member of the list is a tuple\n",
    "# the first member of the first tuple is the number that occurs most frequently\n",
    "# the second element of the first tuple is the number of occurances\n",
    "# the remaining tuples are the values and number of occurances\n",
    "print(c.most_common())\n",
    "\n",
    "# print only the most common element\n",
    "print(c.most_common(1))\n",
    "\n",
    "# print the two most common elements\n",
    "print (c.most_common(2))\n",
    "\n",
    "# print only the the element and not the number of occurances\n",
    "mode = c.most_common(1)\n",
    "print(mode[0][0])"
   ]
  },
  {
   "cell_type": "markdown",
   "metadata": {},
   "source": [
    "#### Finding the Mode"
   ]
  },
  {
   "cell_type": "code",
   "execution_count": 8,
   "metadata": {
    "collapsed": false
   },
   "outputs": [
    {
     "name": "stdout",
     "output_type": "stream",
     "text": [
      "The mode of the list of numbers is: 9\n"
     ]
    }
   ],
   "source": [
    "from collections import Counter\n",
    "\n",
    "def calculate_mode(numbers):\n",
    "    c = Counter(numbers)\n",
    "    mode = c.most_common(1)\n",
    "    return mode[0][0]\n",
    "\n",
    "if __name__=='__main__':\n",
    "    scores = [7, 8, 9, 2, 10, 9, 9, 9, 9, 4, 5, 6, 1, 5, 6, 7, 8, 6, 1, 10]\n",
    "    mode = calculate_mode(scores)\n",
    "    \n",
    "    print('The mode of the list of numbers is: {0}'.format(mode))"
   ]
  },
  {
   "cell_type": "markdown",
   "metadata": {},
   "source": [
    "#### Creating a Frequency Table"
   ]
  },
  {
   "cell_type": "code",
   "execution_count": 9,
   "metadata": {
    "collapsed": false
   },
   "outputs": [
    {
     "name": "stdout",
     "output_type": "stream",
     "text": [
      "Number\tFrequency\n",
      "9\t5\n",
      "6\t3\n",
      "1\t2\n",
      "5\t2\n",
      "7\t2\n",
      "8\t2\n",
      "10\t2\n",
      "2\t1\n",
      "4\t1\n"
     ]
    }
   ],
   "source": [
    "from collections import Counter\n",
    "\n",
    "def frequency_table(numbers):\n",
    "    table = Counter(numbers)\n",
    "    print('Number\\tFrequency')\n",
    "    for number in table.most_common():\n",
    "        print('{0}\\t{1}'.format(number[0], number[1]))\n",
    "        \n",
    "if __name__=='__main__':\n",
    "    scores = [7, 8, 9, 2, 10, 9, 9, 9, 9, 4, 5, 6, 1, 5, 6, 7, 8, 6, 1, 10]\n",
    "    frequency_table(scores)\n",
    "    "
   ]
  },
  {
   "cell_type": "code",
   "execution_count": 10,
   "metadata": {
    "collapsed": false,
    "scrolled": true
   },
   "outputs": [
    {
     "name": "stdout",
     "output_type": "stream",
     "text": [
      "Number\tFrequency\n",
      "1\t2\n",
      "2\t1\n",
      "4\t1\n",
      "5\t2\n",
      "6\t3\n",
      "7\t2\n",
      "8\t2\n",
      "9\t5\n",
      "10\t2\n"
     ]
    }
   ],
   "source": [
    "# print the frequency tables sorted by value of lowest to highest with sort()\n",
    "from collections import Counter\n",
    "\n",
    "def frequency_table(numbers):\n",
    "    table = Counter(numbers)\n",
    "    numbers_freq = table.most_common()\n",
    "    numbers_freq.sort()\n",
    "    \n",
    "    print('Number\\tFrequency')\n",
    "    for number in numbers_freq:\n",
    "        print('{0}\\t{1}'.format(number[0], number[1]))\n",
    "        \n",
    "if __name__=='__main__':\n",
    "    scores = [7, 8, 9, 2, 10, 9, 9, 9, 9, 4, 5, 6, 1, 5, 6, 7, 8, 6, 1, 10]\n",
    "    frequency_table(scores)"
   ]
  },
  {
   "cell_type": "markdown",
   "metadata": {},
   "source": [
    "### Measuring the Dispersion\n",
    "Dispersion is an indicator of how far away numbers in a set of data are from the mean of the data set. \n",
    "#### Finding the Range of a Set of Numbers\n",
    "For a list of numbers, the range is the difference between the highest number and the lowest number. "
   ]
  },
  {
   "cell_type": "code",
   "execution_count": 11,
   "metadata": {
    "collapsed": false
   },
   "outputs": [
    {
     "name": "stdout",
     "output_type": "stream",
     "text": [
      "Lowest: 60 Highest: 1200 Range: 1140\n"
     ]
    }
   ],
   "source": [
    "def find_range(numbers):\n",
    "    \n",
    "    lowest = min(numbers)\n",
    "    highest = max(numbers)\n",
    "    r = highest - lowest\n",
    "    \n",
    "    return lowest, highest, r\n",
    "\n",
    "if __name__==\"__main__\":\n",
    "    donations = [100, 60, 70, 900, 100, 200, 500, 500, 503, 600, 1000, 1200]\n",
    "    lowest, highest, r = find_range(donations)\n",
    "    print('Lowest: {0} Highest: {1} Range: {2}'.format(lowest, highest, r))"
   ]
  },
  {
   "cell_type": "markdown",
   "metadata": {},
   "source": [
    "#### Finding the Variance and Standard Deviation\n",
    "The variance is the average of the squares of the difference of each number from the mean. \n",
    "\\begin{equation*}\n",
    "variance = (\\sum(x_1 - {\\overline x})^2) / n\n",
    "\\end{equation*}"
   ]
  },
  {
   "cell_type": "code",
   "execution_count": 12,
   "metadata": {
    "collapsed": false
   },
   "outputs": [
    {
     "name": "stdout",
     "output_type": "stream",
     "text": [
      "The variance of the list of numbers is 141047.35416666666\n",
      "The standard deviation of the list of numbers is 375.5627166887931\n"
     ]
    }
   ],
   "source": [
    "def calculate_mean(numbers):\n",
    "    s = sum(numbers)\n",
    "    N = len(numbers)\n",
    "    mean = s/N\n",
    "    \n",
    "    return mean\n",
    "\n",
    "def find_differences(numbers):\n",
    "    mean = calculate_mean(numbers)\n",
    "    diff = []\n",
    "    for num in numbers:\n",
    "        diff.append(num-mean)\n",
    "        \n",
    "    return diff\n",
    "\n",
    "def calculate_variance(numbers):\n",
    "    \n",
    "    diff = find_differences(numbers)\n",
    "    squared_diff = []\n",
    "    \n",
    "    for d in diff:\n",
    "        squared_diff.append(d**2)\n",
    "        \n",
    "    sum_squared_diff = sum(squared_diff)\n",
    "    variance = sum_squared_diff / len(numbers)\n",
    "    \n",
    "    return variance\n",
    "\n",
    "if __name__=='__main__':\n",
    "    donations = [100, 60, 70, 900, 100, 200, 500, 500, 503, 600, 1000, 1200]\n",
    "    variance = calculate_variance(donations)\n",
    "    \n",
    "    # if the variance and standard deviation are large, the daily donations\n",
    "    # vary greatly from the mean.\n",
    "    print('The variance of the list of numbers is {0}'.format(variance))\n",
    "    \n",
    "    std = variance**0.5\n",
    "    print('The standard deviation of the list of numbers is {0}'.format(std))"
   ]
  },
  {
   "cell_type": "markdown",
   "metadata": {},
   "source": [
    "### Calculating the Correlation Between Two Data Sets\n",
    "#### Calculating the Correlation Coefficient\n",
    "The correlation coefficent meansures the strength of the linear relationship. \n",
    "\n",
    "A correlation coefficent of 0 indicates there there is no linear correlation between the two quantities. \n",
    "\n",
    "A correlation coefficient of 1 (or close to 1) indicates that there is a strong positive linear correlation; a coefficient of exactly 1 is referred to as a perfect positive correlation. \n",
    "\n",
    "\\begin{equation*}\n",
    "correlation = n\\sum xy - \\sum x \\sum y / (\\sqrt (n \\sum x^2 - (\\sum x)^2) (n \\sum y^2 - (\\sum y)^2))\n",
    "\\end{equation*}\n",
    "\n",
    "\n",
    "##### Sum of the products of the individual elements of the two sets of numbers (x, y)\n",
    "\n",
    "\\begin{equation*}\n",
    "\\sum xy \n",
    "\\end{equation*}\n",
    "\n",
    "##### Sum of the numbers is set x\n",
    "\n",
    "\\begin{equation*}\n",
    "\\sum x \n",
    "\\end{equation*}\n",
    "\n",
    "##### Sum of the numbers is set y\n",
    "\n",
    "\\begin{equation*}\n",
    "\\sum y\n",
    "\\end{equation*}\n",
    "\n",
    "##### Square of the sum of the numbers in set x\n",
    "\n",
    "\\begin{equation*}\n",
    "(\\sum x)^2 \n",
    "\\end{equation*}\n",
    "\n",
    "##### Square of the sum of the numbers in set y\n",
    "\n",
    "\\begin{equation*}\n",
    "(\\sum y)^2 \n",
    "\\end{equation*}\n",
    "\n",
    "##### Sum of the squares of the numbers in set x\n",
    "\n",
    "\\begin{equation*}\n",
    "\\sum x^2 \n",
    "\\end{equation*}\n",
    "\n",
    "##### Sum of the squares of the numbers in set y\n",
    "\n",
    "\\begin{equation*}\n",
    "\\sum y^2 \n",
    "\\end{equation*}"
   ]
  },
  {
   "cell_type": "code",
   "execution_count": 13,
   "metadata": {
    "collapsed": false
   },
   "outputs": [
    {
     "name": "stdout",
     "output_type": "stream",
     "text": [
      "zip() returns pairs of corresponding elements\n",
      "1 4\n",
      "2 5\n",
      "3 6\n"
     ]
    }
   ],
   "source": [
    "# zip function: helps calculate the sum of products from two sets of numbers\n",
    "simple_list1 = [1, 2, 3]\n",
    "simple_list2 = [4, 5, 6]\n",
    "print(\"zip() returns pairs of corresponding elements\")\n",
    "for x,y in zip(simple_list1, simple_list2):\n",
    "    print (x,y)\n"
   ]
  },
  {
   "cell_type": "code",
   "execution_count": 14,
   "metadata": {
    "collapsed": true
   },
   "outputs": [],
   "source": [
    "def find_corr_x_y(x, y):\n",
    "    n = len(x)\n",
    "    \n",
    "    prod = []\n",
    "    for xi, yi in zip(x, y):\n",
    "        prod.append(xi*yi)\n",
    "        \n",
    "    sum_prod_x_y = sum(prod)\n",
    "    sum_x = sum(x)\n",
    "    sum_y = sum(y)\n",
    "    squared_sum_x = sum_x**2\n",
    "    squared_sum_y = sum_y**2\n",
    "    \n",
    "    x_square = []\n",
    "    for xi in x:\n",
    "        x_square.append(xi**2)\n",
    "    x_square_sum = sum(x_square)\n",
    "    \n",
    "    y_square = []\n",
    "    for yi in y:\n",
    "        y_square.append(yi**z)\n",
    "    y_square_sum = sum(y_square)\n",
    "    \n",
    "    numerator = n*sum_prod_x_y - sum_x*sum_y\n",
    "    denominator_term1 = n*x_square_sum - squared_sum_x\n",
    "    denominator_term2 = n*y_square_sum - squared_sum_y\n",
    "    denominator = (denominator_term1 * denominator_term2)**0.5\n",
    "    correlation = numerator / denominator"
   ]
  },
  {
   "cell_type": "markdown",
   "metadata": {},
   "source": [
    "### Reading Data from Files\n",
    "#### Reading Data from a Text File"
   ]
  },
  {
   "cell_type": "code",
   "execution_count": 15,
   "metadata": {
    "collapsed": false
   },
   "outputs": [
    {
     "name": "stdout",
     "output_type": "stream",
     "text": [
      "Sum of the numbers: 5733.0\n"
     ]
    }
   ],
   "source": [
    "# find the sum of numbers stored in a file\n",
    "def sum_data(filename):\n",
    "    s = 0\n",
    "    with open(filename) as f:\n",
    "        for line in f:\n",
    "            s = s + float(line)\n",
    "    print('Sum of the numbers: {0}'.format(s))\n",
    "    \n",
    "if __name__=='__main__':\n",
    "    sum_data('mydata.txt')"
   ]
  },
  {
   "cell_type": "code",
   "execution_count": 16,
   "metadata": {
    "collapsed": false
   },
   "outputs": [
    {
     "name": "stdout",
     "output_type": "stream",
     "text": [
      "Mean: 477.75\n"
     ]
    }
   ],
   "source": [
    "# Calculate the mean of numbers stored in a file\n",
    "def read_data(filename):\n",
    "    \n",
    "    numbers = []\n",
    "    with open(filename) as f:\n",
    "        for line in f:\n",
    "            numbers.append(float(line))\n",
    "    return numbers\n",
    "\n",
    "def calculate_mean(numbers):\n",
    "    s = sum(numbers)\n",
    "    N = len(numbers)\n",
    "    mean = s/N\n",
    "    \n",
    "    return mean\n",
    "\n",
    "if __name__==\"__main__\":\n",
    "    data = read_data('mydata.txt')\n",
    "    mean = calculate_mean(data)\n",
    "    print('Mean: {0}'.format(mean))\n",
    "    "
   ]
  },
  {
   "cell_type": "markdown",
   "metadata": {},
   "source": [
    "#### Reading Data from a CSV File"
   ]
  },
  {
   "cell_type": "raw",
   "metadata": {},
   "source": [
    "%matplotlib notebook\n",
    "\n",
    "import csv\n",
    "import matplotlib.pyplot as plt\n",
    "\n",
    "def scatter_plot(x, y):\n",
    "    plt.scatter(x, y)\n",
    "    plt.xlabel('Number')\n",
    "    plt.ylabel('Square')\n",
    "    plt.show()\n",
    "    \n",
    "def read_csv(filename):\n",
    "    \n",
    "    numbers = []\n",
    "    squared = []\n",
    "    with open(filename) as f:\n",
    "        reader = csv.reader(f)\n",
    "        next(reader)\n",
    "        for row in reader:\n",
    "            numbers.append(int(row[0]))\n",
    "            squared.append(int(row[1]))\n",
    "        return numbers, squared\n",
    "\n",
    "if __name__=='__main__':\n",
    "    numbers, squared = read_csv('numbers.csv')\n",
    "    scatter_plot(numbers, squared)"
   ]
  },
  {
   "cell_type": "code",
   "execution_count": null,
   "metadata": {
    "collapsed": true
   },
   "outputs": [],
   "source": []
  },
  {
   "cell_type": "code",
   "execution_count": null,
   "metadata": {
    "collapsed": true
   },
   "outputs": [],
   "source": []
  }
 ],
 "metadata": {
  "kernelspec": {
   "display_name": "Python 3",
   "language": "python",
   "name": "python3"
  },
  "language_info": {
   "codemirror_mode": {
    "name": "ipython",
    "version": 3
   },
   "file_extension": ".py",
   "mimetype": "text/x-python",
   "name": "python",
   "nbconvert_exporter": "python",
   "pygments_lexer": "ipython3",
   "version": "3.5.2"
  }
 },
 "nbformat": 4,
 "nbformat_minor": 0
}
